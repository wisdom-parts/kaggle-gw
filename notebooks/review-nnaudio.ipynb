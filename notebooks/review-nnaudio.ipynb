{
 "cells": [
  {
   "cell_type": "code",
   "execution_count": null,
   "id": "ac0ad469-3ede-478e-877d-3c820aabddf9",
   "metadata": {},
   "outputs": [],
   "source": [
    "import os\n",
    "import pathlib\n",
    "from pathlib import Path\n",
    "\n",
    "if Path(os.getcwd()).match(\"notebooks\"):\n",
    "    os.chdir(\"..\")\n",
    "os.getcwd()"
   ]
  },
  {
   "cell_type": "code",
   "execution_count": null,
   "id": "8a2933ca-b3a6-4846-97ee-77f8052ccfde",
   "metadata": {},
   "outputs": [],
   "source": [
    "import sys\n",
    "from typing import Tuple, Optional\n",
    "\n",
    "from typeguard import typechecked\n",
    "\n",
    "import numpy as np\n",
    "import matplotlib.pyplot as plt\n",
    "from matplotlib.colors import Normalize\n",
    "import scipy.signal\n",
    "\n",
    "import torch\n",
    "\n",
    "import gw_data\n",
    "from preprocessor_meta import raw_meta\n",
    "from models.cnn1d import CqtInputLayer"
   ]
  },
  {
   "cell_type": "code",
   "execution_count": null,
   "id": "bf2f59f6-3f6a-4333-b546-b808719c9515",
   "metadata": {},
   "outputs": [],
   "source": [
    "DATA_DIR = Path('g2net-data-000')"
   ]
  },
  {
   "cell_type": "code",
   "execution_count": null,
   "id": "5ad8b448-edbb-41f9-b47d-09e58fb3704b",
   "metadata": {},
   "outputs": [],
   "source": [
    "# Suitable for a 2020ish MacBook Pro\n",
    "plt.rcParams['figure.dpi']= 140\n",
    "\n",
    "SMALL_FONT_SIZE = 6\n",
    "MEDIUM_FONT_SIZE = 8\n",
    "BIGGER_FONT_SIZE = 10\n",
    "\n",
    "plt.rc('font', size=SMALL_FONT_SIZE)          # controls default text sizes\n",
    "plt.rc('axes', titlesize=SMALL_FONT_SIZE)     # fontsize of the axes title\n",
    "plt.rc('axes', labelsize=MEDIUM_FONT_SIZE)    # fontsize of the x and y labels\n",
    "plt.rc('xtick', labelsize=SMALL_FONT_SIZE)    # fontsize of the tick labels\n",
    "plt.rc('ytick', labelsize=SMALL_FONT_SIZE)    # fontsize of the tick labels\n",
    "plt.rc('legend', fontsize=SMALL_FONT_SIZE)    # legend fontsize\n",
    "plt.rc('figure', titlesize=BIGGER_FONT_SIZE)  # fontsize of the figure title"
   ]
  },
  {
   "cell_type": "code",
   "execution_count": null,
   "id": "25430a0b-4d66-4dd7-a789-d1134cf58840",
   "metadata": {},
   "outputs": [],
   "source": [
    "SIGNAL_COLORS = ['red', 'green', 'blue']\n",
    "\n",
    "def plot_filter_line(ax, sigs, idx, left: int = 0, right: Optional[int] = None):\n",
    "    right = right or len(sigs[idx])\n",
    "    \n",
    "    ax.minorticks_on()\n",
    "    ax.grid(which='major', color='#555555', linestyle='-', linewidth=0.7)\n",
    "    ax.grid(which='minor', color='#AAAAAA', linestyle=':', linewidth=0.5)\n",
    "    ax.set_axisbelow(False)\n",
    "\n",
    "    ax.plot(FILTER_TIMES[left:right],\n",
    "            sigs[idx][left:right],\n",
    "            SIGNAL_COLORS[idx])\n",
    "\n",
    "@typechecked\n",
    "def plot_filter_sigs(_id: str, sigs: np.ndarray, left: int = 0, right: Optional[int] = None):\n",
    "    fig, axs = plt.subplots(nrows=3, ncols=1, sharex=True, figsize=[6, 5])\n",
    "    for i in range(3):\n",
    "        plot_filter_line(axs[i], sigs, i, left, right)\n",
    "    fig.suptitle(f'id={_id}')"
   ]
  },
  {
   "cell_type": "code",
   "execution_count": null,
   "id": "8de728b0-4e33-4263-a905-fd9e8f7432f1",
   "metadata": {},
   "outputs": [],
   "source": [
    "dtype=torch.float\n",
    "cqt_layer = CqtInputLayer(raw_meta.output_shape)\n",
    "cqt_layer.to(\"cpu\", dtype=dtype)\n",
    "\n",
    "@typechecked\n",
    "def cqt_sig(sig: np.ndarray) -> np.ndarray:\n",
    "    return cqt_layer.forward(torch.tensor(sig, dtype=dtype)).numpy()[0]"
   ]
  },
  {
   "cell_type": "code",
   "execution_count": null,
   "id": "ad50375c-f552-41a0-bd58-981221d14c60",
   "metadata": {},
   "outputs": [],
   "source": [
    "@typechecked\n",
    "def plot_sig_q(sig: np.ndarray):\n",
    "    if sig.shape != raw_meta.output_shape[1:]:\n",
    "        raise ValueError(f\"expected shape {raw_meta.output_shape[1:]}; got {sig.shape}\")\n",
    "    spec = cqt_sig(sig)\n",
    "    spec = spec - np.min(spec)\n",
    "    spec = spec / np.max(spec)\n",
    "    spec = spec * 15\n",
    "    fig, ax = plt.subplots(nrows=1, ncols=1, figsize=[6, 2])\n",
    "    ax.pcolormesh(cqt_layer.times, cqt_layer.freqs, spec, vmax=15, vmin=0, cmap='viridis', shading=\"nearest\")\n",
    "    ax.minorticks_on()\n",
    "    ax.grid(which='major', color='#DDDDDD', linestyle='-', linewidth=0.7)\n",
    "    ax.grid(which='minor', color='#CCCCCC', linestyle=':', linewidth=0.5)\n",
    "    ax.set_axisbelow(False)\n",
    "    plt.show()"
   ]
  },
  {
   "cell_type": "code",
   "execution_count": null,
   "id": "ed516dad-1599-47ac-9166-4f7aef15fa64",
   "metadata": {},
   "outputs": [],
   "source": [
    "test_id = '000a218fdd'\n",
    "test_sigs = np.load(gw_data.train_file(DATA_DIR, test_id))"
   ]
  },
  {
   "cell_type": "code",
   "execution_count": null,
   "id": "3c6859a5-3ce2-4e19-b5a9-39800a691383",
   "metadata": {},
   "outputs": [],
   "source": [
    "for i in range(gw_data.N_SIGNALS):\n",
    "    plot_sig_q(test_sigs[i])"
   ]
  }
 ],
 "metadata": {
  "kernelspec": {
   "display_name": "Python 3 (ipykernel)",
   "language": "python",
   "name": "python3"
  },
  "language_info": {
   "codemirror_mode": {
    "name": "ipython",
    "version": 3
   },
   "file_extension": ".py",
   "mimetype": "text/x-python",
   "name": "python",
   "nbconvert_exporter": "python",
   "pygments_lexer": "ipython3",
   "version": "3.9.7"
  }
 },
 "nbformat": 4,
 "nbformat_minor": 5
}
