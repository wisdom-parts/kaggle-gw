{
 "cells": [
  {
   "cell_type": "code",
   "execution_count": 1,
   "metadata": {},
   "outputs": [],
   "source": [
    "import sys"
   ]
  },
  {
   "cell_type": "code",
   "execution_count": 2,
   "metadata": {},
   "outputs": [
    {
     "name": "stdout",
     "output_type": "stream",
     "text": [
      "/home/ec2-user/.conda/envs/kaggle-gw/bin:/opt/conda/condabin:/opt/amazon/openmpi/bin:/opt/amazon/efa/bin:/opt/conda/bin:/usr/local/cuda/bin:/usr/libexec/gcc/x86_64-redhat-linux/7:/opt/aws/bin:/opt/amazon/openmpi/bin:/opt/amazon/efa/bin:/opt/conda/bin:/usr/local/cuda/bin:/usr/libexec/gcc/x86_64-redhat-linux/7:/opt/aws/bin:/usr/local/bin:/usr/bin:/usr/local/sbin:/usr/sbin\n"
     ]
    }
   ],
   "source": [
    "!echo $PATH"
   ]
  },
  {
   "cell_type": "code",
   "execution_count": 8,
   "metadata": {},
   "outputs": [
    {
     "name": "stdout",
     "output_type": "stream",
     "text": [
      "/home/ec2-user/kaggle-gw/notebooks\n"
     ]
    }
   ],
   "source": [
    "!pwd"
   ]
  },
  {
   "cell_type": "code",
   "execution_count": 3,
   "metadata": {},
   "outputs": [
    {
     "name": "stdout",
     "output_type": "stream",
     "text": [
      " shell python:  /home/ec2-user/.conda/envs/kaggle-gw/bin/python\n",
      "kernel python:  /home/ec2-user/.conda/envs/kaggle-gw/bin/python\n"
     ]
    }
   ],
   "source": [
    "# Which pythons are we using?\n",
    "shell_python = !command -v python\n",
    "print(\" shell python: \", shell_python[0])\n",
    "print(\"kernel python: \", sys.executable)"
   ]
  },
  {
   "cell_type": "code",
   "execution_count": 4,
   "metadata": {
    "_cell_guid": "b1076dfc-b9ad-4769-8c92-a6c4dae69d19",
    "_uuid": "8f2839f25d086af736a60e9eeb907d3b93b6e0e5",
    "tags": []
   },
   "outputs": [],
   "source": [
    "import os\n",
    "import numpy as np\n",
    "import pandas as pd\n",
    "import matplotlib.pyplot as plt\n",
    "import seaborn as sns\n",
    "import scipy.signal.windows\n",
    "import scipy.fftpack\n",
    "\n",
    "from pathlib import Path\n",
    "from enum import IntEnum, auto\n",
    "import itertools\n",
    "\n",
    "from typeguard import typechecked\n",
    "from typing import List"
   ]
  },
  {
   "cell_type": "code",
   "execution_count": 5,
   "metadata": {
    "_cell_guid": "b1076dfc-b9ad-4769-8c92-a6c4dae69d19",
    "_uuid": "8f2839f25d086af736a60e9eeb907d3b93b6e0e5",
    "tags": []
   },
   "outputs": [],
   "source": [
    "# Suitable for a 2020ish MacBook Pro\n",
    "plt.rcParams['figure.dpi']= 140\n",
    "\n",
    "SMALL_FONT_SIZE = 6\n",
    "MEDIUM_FONT_SIZE = 8\n",
    "BIGGER_FONT_SIZE = 10\n",
    "\n",
    "plt.rc('font', size=SMALL_FONT_SIZE)          # controls default text sizes\n",
    "plt.rc('axes', titlesize=SMALL_FONT_SIZE)     # fontsize of the axes title\n",
    "plt.rc('axes', labelsize=MEDIUM_FONT_SIZE)    # fontsize of the x and y labels\n",
    "plt.rc('xtick', labelsize=SMALL_FONT_SIZE)    # fontsize of the tick labels\n",
    "plt.rc('ytick', labelsize=SMALL_FONT_SIZE)    # fontsize of the tick labels\n",
    "plt.rc('legend', fontsize=SMALL_FONT_SIZE)    # legend fontsize\n",
    "plt.rc('figure', titlesize=BIGGER_FONT_SIZE)  # fontsize of the figure title"
   ]
  },
  {
   "cell_type": "code",
   "execution_count": 6,
   "metadata": {
    "_cell_guid": "b1076dfc-b9ad-4769-8c92-a6c4dae69d19",
    "_uuid": "8f2839f25d086af736a60e9eeb907d3b93b6e0e5",
    "tags": []
   },
   "outputs": [],
   "source": [
    "# What's the best way to set up auto-complete for Kaggle?\n",
    "# I picked this up from one of the notebooks I was cribbing from.\n",
    "# %config IPCompleter.use_jedi=False"
   ]
  },
  {
   "cell_type": "markdown",
   "metadata": {},
   "source": [
    "# import the PyCBC gravitational-wave analysis toolkit\n",
    "* https://github.com/gwastro/pycbc\n",
    "\n",
    "Borrowing here from [PyCBC: Making Images](https://www.kaggle.com/alexnitz/pycbc-making-images), by AlexNitz."
   ]
  },
  {
   "cell_type": "code",
   "execution_count": 7,
   "metadata": {
    "tags": []
   },
   "outputs": [],
   "source": [
    "import pycbc.types\n",
    "from pycbc.types import TimeSeries\n",
    "from pycbc import fft\n",
    "import pycbc.filter"
   ]
  },
  {
   "cell_type": "markdown",
   "metadata": {},
   "source": [
    "## Get the data"
   ]
  },
  {
   "cell_type": "code",
   "execution_count": 14,
   "metadata": {
    "tags": []
   },
   "outputs": [
    {
     "data": {
      "text/html": [
       "<div>\n",
       "<style scoped>\n",
       "    .dataframe tbody tr th:only-of-type {\n",
       "        vertical-align: middle;\n",
       "    }\n",
       "\n",
       "    .dataframe tbody tr th {\n",
       "        vertical-align: top;\n",
       "    }\n",
       "\n",
       "    .dataframe thead th {\n",
       "        text-align: right;\n",
       "    }\n",
       "</style>\n",
       "<table border=\"1\" class=\"dataframe\">\n",
       "  <thead>\n",
       "    <tr style=\"text-align: right;\">\n",
       "      <th></th>\n",
       "      <th>id</th>\n",
       "      <th>target</th>\n",
       "    </tr>\n",
       "  </thead>\n",
       "  <tbody>\n",
       "    <tr>\n",
       "      <th>0</th>\n",
       "      <td>00000e74ad.npy</td>\n",
       "      <td>1</td>\n",
       "    </tr>\n",
       "    <tr>\n",
       "      <th>1</th>\n",
       "      <td>0000a38978.npy</td>\n",
       "      <td>1</td>\n",
       "    </tr>\n",
       "    <tr>\n",
       "      <th>2</th>\n",
       "      <td>0000bb9f3e.npy</td>\n",
       "      <td>1</td>\n",
       "    </tr>\n",
       "    <tr>\n",
       "      <th>3</th>\n",
       "      <td>0000d61b7b.npy</td>\n",
       "      <td>1</td>\n",
       "    </tr>\n",
       "    <tr>\n",
       "      <th>4</th>\n",
       "      <td>0001016d12.npy</td>\n",
       "      <td>1</td>\n",
       "    </tr>\n",
       "  </tbody>\n",
       "</table>\n",
       "</div>"
      ],
      "text/plain": [
       "               id  target\n",
       "0  00000e74ad.npy       1\n",
       "1  0000a38978.npy       1\n",
       "2  0000bb9f3e.npy       1\n",
       "3  0000d61b7b.npy       1\n",
       "4  0001016d12.npy       1"
      ]
     },
     "execution_count": 14,
     "metadata": {},
     "output_type": "execute_result"
    }
   ],
   "source": [
    "data_path = Path('/home/ec2-user/subsampled-data')\n",
    "\n",
    "def list_examples(path, target):\n",
    "    return [(filename, target) for _, _, filenames in os.walk(path) for filename in filenames]\n",
    "\n",
    "ones = list_examples(data_path / 'one-target', 1)\n",
    "zeroes = list_examples(data_path / 'zero-target', 0)\n",
    "\n",
    "train_df = pd.DataFrame(ones + zeroes, columns=['id', 'target'])\n",
    "train_df.head()"
   ]
  },
  {
   "cell_type": "markdown",
   "metadata": {},
   "source": [
    "### Capture Some Givens"
   ]
  },
  {
   "cell_type": "code",
   "execution_count": 15,
   "metadata": {
    "tags": []
   },
   "outputs": [],
   "source": [
    "N_SIGNALS = 3\n",
    "SIGNAL_NAMES = [\"LIGO Hanford\", \"LIGO Livingston\", \"Virgo\"]\n",
    "SIGNAL_LEN = 4096\n",
    "SIGNAL_SECONDS = 2.0\n",
    "DELTA_T = SIGNAL_SECONDS / SIGNAL_LEN\n",
    "SIGNAL_TIMES = [i * DELTA_T for i in range(SIGNAL_LEN)]"
   ]
  },
  {
   "cell_type": "code",
   "execution_count": null,
   "metadata": {
    "execution": {
     "iopub.execute_input": "2021-07-09T18:56:02.420947Z",
     "iopub.status.busy": "2021-07-09T18:56:02.420558Z",
     "iopub.status.idle": "2021-07-09T18:56:02.425743Z",
     "shell.execute_reply": "2021-07-09T18:56:02.425176Z",
     "shell.execute_reply.started": "2021-07-09T18:56:02.420899Z"
    }
   },
   "outputs": [],
   "source": [
    "def signal_path(signal_id, split='train'):\n",
    "    return str(train_npy_files_path / signal_id[0] / signal_id[1] / signal_id[2] / f\"{signal_id}.npy\")"
   ]
  },
  {
   "cell_type": "code",
   "execution_count": null,
   "metadata": {
    "execution": {
     "iopub.execute_input": "2021-07-09T18:56:02.426947Z",
     "iopub.status.busy": "2021-07-09T18:56:02.426595Z",
     "iopub.status.idle": "2021-07-09T18:56:02.976217Z",
     "shell.execute_reply": "2021-07-09T18:56:02.975463Z",
     "shell.execute_reply.started": "2021-07-09T18:56:02.426908Z"
    }
   },
   "outputs": [],
   "source": [
    "id_to_idx = {row.id: row.Index for row in train_df.itertuples()}\n",
    "\n",
    "def read_id_signals_and_target(idx):\n",
    "    _id = train_df['id'][idx]\n",
    "    signal = np.load(signal_path(_id))\n",
    "    target = train_df['target'][idx]\n",
    "    return _id, signal, target\n",
    "\n",
    "def read_signals_and_target(_id):\n",
    "    idx = id_to_idx[_id]\n",
    "    _, signal, target = read_id_signals_and_target(idx)\n",
    "    return signal, target"
   ]
  },
  {
   "cell_type": "markdown",
   "metadata": {},
   "source": [
    "## Basic Data Checks"
   ]
  },
  {
   "cell_type": "code",
   "execution_count": null,
   "metadata": {
    "execution": {
     "iopub.execute_input": "2021-07-09T18:56:02.977577Z",
     "iopub.status.busy": "2021-07-09T18:56:02.97718Z",
     "iopub.status.idle": "2021-07-09T18:56:02.985572Z",
     "shell.execute_reply": "2021-07-09T18:56:02.984957Z",
     "shell.execute_reply.started": "2021-07-09T18:56:02.977549Z"
    }
   },
   "outputs": [],
   "source": [
    "train_df.head()"
   ]
  },
  {
   "cell_type": "code",
   "execution_count": null,
   "metadata": {
    "execution": {
     "iopub.execute_input": "2021-07-09T18:56:02.986804Z",
     "iopub.status.busy": "2021-07-09T18:56:02.986453Z",
     "iopub.status.idle": "2021-07-09T18:56:03.070992Z",
     "shell.execute_reply": "2021-07-09T18:56:03.069952Z",
     "shell.execute_reply.started": "2021-07-09T18:56:02.986774Z"
    }
   },
   "outputs": [],
   "source": [
    "# Any duplicate signal in the data?\n",
    "train_df[\"id\"].duplicated().sum()"
   ]
  },
  {
   "cell_type": "code",
   "execution_count": null,
   "metadata": {
    "execution": {
     "iopub.execute_input": "2021-07-09T18:56:03.072546Z",
     "iopub.status.busy": "2021-07-09T18:56:03.072283Z",
     "iopub.status.idle": "2021-07-09T18:56:03.34935Z",
     "shell.execute_reply": "2021-07-09T18:56:03.34842Z",
     "shell.execute_reply.started": "2021-07-09T18:56:03.072521Z"
    }
   },
   "outputs": [],
   "source": [
    "#  Distribution of the labels\n",
    "plt.figure(figsize=(1, 1))\n",
    "sns.countplot(x=train_df[\"target\"], data=train_df)\n",
    "plt.show()"
   ]
  },
  {
   "cell_type": "code",
   "execution_count": null,
   "metadata": {
    "execution": {
     "iopub.execute_input": "2021-07-09T18:56:03.35088Z",
     "iopub.status.busy": "2021-07-09T18:56:03.350588Z",
     "iopub.status.idle": "2021-07-09T18:56:03.367592Z",
     "shell.execute_reply": "2021-07-09T18:56:03.366745Z",
     "shell.execute_reply.started": "2021-07-09T18:56:03.350851Z"
    }
   },
   "outputs": [],
   "source": [
    "## Load a test example that has a strong signal.\n",
    "test_id = '339f690782'\n",
    "test_sigs, test_targ = read_signals_and_target(test_id)"
   ]
  },
  {
   "cell_type": "markdown",
   "metadata": {},
   "source": [
    "# Build some Preprocessing and Graphing Infrastructure"
   ]
  },
  {
   "cell_type": "code",
   "execution_count": null,
   "metadata": {
    "execution": {
     "iopub.execute_input": "2021-07-09T18:56:03.368994Z",
     "iopub.status.busy": "2021-07-09T18:56:03.368707Z",
     "iopub.status.idle": "2021-07-09T18:56:03.37553Z",
     "shell.execute_reply": "2021-07-09T18:56:03.374691Z",
     "shell.execute_reply.started": "2021-07-09T18:56:03.368965Z"
    }
   },
   "outputs": [],
   "source": [
    "SIGNAL_COLORS = ['red', 'green', 'blue']\n",
    "\n",
    "def plot_sig_line(ax, sigs, idx):\n",
    "    ax.minorticks_on()\n",
    "    ax.grid(which='major', color='#555555', linestyle='-', linewidth=0.7)\n",
    "    ax.grid(which='minor', color='#AAAAAA', linestyle=':', linewidth=0.5)\n",
    "    ax.set_axisbelow(False)\n",
    "\n",
    "    ax.plot(SIGNAL_TIMES,\n",
    "           sigs[idx],\n",
    "           SIGNAL_COLORS[idx])\n",
    "    \n",
    "def plot_example_lines(_id, sigs, target):\n",
    "    fig, axs = plt.subplots(nrows=3, ncols=1, sharex=True, figsize=[5, 2])\n",
    "    for i in range(3):\n",
    "        plot_sig_line(axs[i], sigs, i)\n",
    "    fig.suptitle(f'id={_id}, target={target}')\n",
    "    "
   ]
  },
  {
   "cell_type": "code",
   "execution_count": null,
   "metadata": {
    "execution": {
     "iopub.execute_input": "2021-07-09T18:56:03.377054Z",
     "iopub.status.busy": "2021-07-09T18:56:03.376637Z",
     "iopub.status.idle": "2021-07-09T18:56:06.572788Z",
     "shell.execute_reply": "2021-07-09T18:56:06.57186Z",
     "shell.execute_reply.started": "2021-07-09T18:56:03.377022Z"
    }
   },
   "outputs": [],
   "source": [
    "for _ in range(4):\n",
    "    idx = np.random.randint(len(train_df))\n",
    "    _id, sigs, targ = read_id_signals_and_target(idx)\n",
    "    plot_example_lines(_id, sigs, targ)         "
   ]
  },
  {
   "cell_type": "code",
   "execution_count": null,
   "metadata": {
    "execution": {
     "iopub.execute_input": "2021-07-09T18:56:06.574655Z",
     "iopub.status.busy": "2021-07-09T18:56:06.574132Z",
     "iopub.status.idle": "2021-07-09T18:56:06.580828Z",
     "shell.execute_reply": "2021-07-09T18:56:06.57979Z",
     "shell.execute_reply.started": "2021-07-09T18:56:06.574614Z"
    }
   },
   "outputs": [],
   "source": [
    "@typechecked\n",
    "def timeseries_from_signal(sig: np.ndarray) -> TimeSeries:\n",
    "    return TimeSeries(sig, epoch=0, delta_t=DELTA_T)\n",
    "\n",
    "@typechecked\n",
    "def timeseries_from_signals(sigs: np.ndarray) -> List[TimeSeries]:\n",
    "    return [timeseries_from_signal(sigs[i]) for i in range(N_SIGNALS)]"
   ]
  },
  {
   "cell_type": "code",
   "execution_count": null,
   "metadata": {
    "execution": {
     "iopub.execute_input": "2021-07-09T18:56:06.582187Z",
     "iopub.status.busy": "2021-07-09T18:56:06.581942Z",
     "iopub.status.idle": "2021-07-09T18:56:06.594112Z",
     "shell.execute_reply": "2021-07-09T18:56:06.593181Z",
     "shell.execute_reply.started": "2021-07-09T18:56:06.582162Z"
    }
   },
   "outputs": [],
   "source": [
    "test_tss = timeseries_from_signals(test_sigs) "
   ]
  },
  {
   "cell_type": "markdown",
   "metadata": {},
   "source": [
    "## Preprocess\n",
    "As baselines, see [the paper reporting the GW150914 discovery](https://iopscience.iop.org/article/10.1088/1361-6382/ab685e) and the corresponding [sample code in PyCBC's docs](https://pycbc.org/pycbc/latest/html/gw150914.html).\n",
    "\n",
    "Here are the steps we explore:\n",
    "* Apply a window function (Tukey - tapered cosine window) to reduce [spectral leakage](https://dspillustrations.com/pages/posts/misc/spectral-leakage-zero-padding-and-frequency-resolution.html).\n",
    "* Whiten the spectrum.\n",
    "* Apply a bandpass filter."
   ]
  },
  {
   "cell_type": "markdown",
   "metadata": {},
   "source": [
    "## Tukey window\n",
    "\n",
    "Here are two examples of Tukey windows, with different parameters:"
   ]
  },
  {
   "cell_type": "code",
   "execution_count": null,
   "metadata": {
    "execution": {
     "iopub.execute_input": "2021-07-09T18:56:06.596245Z",
     "iopub.status.busy": "2021-07-09T18:56:06.595803Z",
     "iopub.status.idle": "2021-07-09T18:56:06.779791Z",
     "shell.execute_reply": "2021-07-09T18:56:06.778904Z",
     "shell.execute_reply.started": "2021-07-09T18:56:06.596203Z"
    }
   },
   "outputs": [],
   "source": [
    "plt.plot(scipy.signal.windows.tukey(4096), label='default alpha');\n",
    "plt.plot(scipy.signal.windows.tukey(4096, alpha=0.2), label='alpha=0.2')\n",
    "plt.legend()\n",
    "plt.show()"
   ]
  },
  {
   "cell_type": "markdown",
   "metadata": {},
   "source": [
    "Let's define a function to window our data."
   ]
  },
  {
   "cell_type": "code",
   "execution_count": null,
   "metadata": {
    "execution": {
     "iopub.execute_input": "2021-07-09T18:56:06.78135Z",
     "iopub.status.busy": "2021-07-09T18:56:06.781068Z",
     "iopub.status.idle": "2021-07-09T18:56:06.786453Z",
     "shell.execute_reply": "2021-07-09T18:56:06.785192Z",
     "shell.execute_reply.started": "2021-07-09T18:56:06.781322Z"
    }
   },
   "outputs": [],
   "source": [
    "# Given that the most visible signals I have looked at\n",
    "# (all of the signals?) show up in a t range of roughly (1.3, 1.8),\n",
    "# we need a shorter, steeper shoulder than the default alpha=0.5.\n",
    "TUKEY_WINDOW = scipy.signal.tukey(4096, alpha=0.2)\n",
    "\n",
    "@typechecked\n",
    "def window(sigs: np.ndarray) -> np.ndarray:\n",
    "    return sigs * TUKEY_WINDOW"
   ]
  },
  {
   "cell_type": "markdown",
   "metadata": {},
   "source": [
    "Let's look at our test example before and after windowing.\n",
    "\n",
    "Before:"
   ]
  },
  {
   "cell_type": "code",
   "execution_count": null,
   "metadata": {
    "execution": {
     "iopub.execute_input": "2021-07-09T18:56:06.788911Z",
     "iopub.status.busy": "2021-07-09T18:56:06.788136Z",
     "iopub.status.idle": "2021-07-09T18:56:07.776043Z",
     "shell.execute_reply": "2021-07-09T18:56:07.775091Z",
     "shell.execute_reply.started": "2021-07-09T18:56:06.788869Z"
    }
   },
   "outputs": [],
   "source": [
    "plot_example_lines(test_id, test_sigs, test_targ)"
   ]
  },
  {
   "cell_type": "markdown",
   "metadata": {},
   "source": [
    "After windowing:"
   ]
  },
  {
   "cell_type": "code",
   "execution_count": null,
   "metadata": {
    "execution": {
     "iopub.execute_input": "2021-07-09T18:56:07.78039Z",
     "iopub.status.busy": "2021-07-09T18:56:07.779847Z",
     "iopub.status.idle": "2021-07-09T18:56:08.574792Z",
     "shell.execute_reply": "2021-07-09T18:56:08.573882Z",
     "shell.execute_reply.started": "2021-07-09T18:56:07.780347Z"
    }
   },
   "outputs": [],
   "source": [
    "plot_example_lines(test_id, window(test_sigs), test_targ)"
   ]
  },
  {
   "cell_type": "markdown",
   "metadata": {},
   "source": [
    "Let's look at the spectrum for one of our test signals:"
   ]
  },
  {
   "cell_type": "code",
   "execution_count": null,
   "metadata": {
    "execution": {
     "iopub.execute_input": "2021-07-09T18:56:08.577372Z",
     "iopub.status.busy": "2021-07-09T18:56:08.57671Z",
     "iopub.status.idle": "2021-07-09T18:56:09.107291Z",
     "shell.execute_reply": "2021-07-09T18:56:09.106623Z",
     "shell.execute_reply.started": "2021-07-09T18:56:08.577326Z"
    }
   },
   "outputs": [],
   "source": [
    "test0_fft = scipy.fftpack.fft(test_sigs[0])\n",
    "# The resulting x axis is given by the fft(...) function.\n",
    "test0_fft_x = np.linspace(0.0, 1.0/(2.0*DELTA_T), SIGNAL_LEN//2)\n",
    "\n",
    "fig, ax = plt.subplots()\n",
    "# The positive frequencies are in the first half of fft(...)'s output.\n",
    "# The output is complex, so plot its magnitude.\n",
    "ax.plot(test0_fft_x, np.abs(test0_fft[:SIGNAL_LEN//2]))\n",
    "ax.set_xlabel('Hz')\n",
    "ax.set_yscale('log')\n",
    "plt.show()"
   ]
  },
  {
   "cell_type": "markdown",
   "metadata": {},
   "source": [
    "Zooming in on the low frequences:"
   ]
  },
  {
   "cell_type": "code",
   "execution_count": null,
   "metadata": {
    "execution": {
     "iopub.execute_input": "2021-07-09T18:56:09.108861Z",
     "iopub.status.busy": "2021-07-09T18:56:09.108406Z",
     "iopub.status.idle": "2021-07-09T18:56:09.438623Z",
     "shell.execute_reply": "2021-07-09T18:56:09.437988Z",
     "shell.execute_reply.started": "2021-07-09T18:56:09.108828Z"
    }
   },
   "outputs": [],
   "source": [
    "fig, ax = plt.subplots()\n",
    "ax.plot(test0_fft_x[:70], np.abs(test0_fft[:70]))\n",
    "ax.set_xlabel('Hz')\n",
    "ax.set_yscale('log')\n",
    "plt.show()"
   ]
  },
  {
   "cell_type": "markdown",
   "metadata": {},
   "source": [
    "The signal's most intense frequency components (and thus the waves visible on our graphs so far) are at frequencies around 20Hz and down. But from [our reference paper](https://iopscience.iop.org/article/10.1088/1361-6382/ab685e), the GW information is in the 35 to 350Hz range. So we'll need a bandpass filter."
   ]
  },
  {
   "cell_type": "code",
   "execution_count": null,
   "metadata": {
    "execution": {
     "iopub.execute_input": "2021-07-09T18:56:09.439995Z",
     "iopub.status.busy": "2021-07-09T18:56:09.439618Z",
     "iopub.status.idle": "2021-07-09T18:56:09.444848Z",
     "shell.execute_reply": "2021-07-09T18:56:09.444292Z",
     "shell.execute_reply.started": "2021-07-09T18:56:09.439957Z"
    }
   },
   "outputs": [],
   "source": [
    "@typechecked\n",
    "def bandpass_ts(ts: TimeSeries, \n",
    "                lf: float=35.0, \n",
    "                hf: float=350.0) -> TimeSeries:\n",
    "    hp = pycbc.filter.highpass(ts, lf, 8)\n",
    "    return pycbc.filter.lowpass_fir(hp, hf, 8)\n",
    "    \n",
    "@typechecked\n",
    "def bandpass_sigs(sigs: np.ndarray, \n",
    "                  lf: float=35.0, \n",
    "                  hf: float=350.0) -> np.ndarray:\n",
    "    tss = timeseries_from_signals(sigs)\n",
    "    filtered_tss = [bandpass_ts(ts, lf, hf) for ts in tss]\n",
    "    return np.stack(filtered_tss)"
   ]
  },
  {
   "cell_type": "markdown",
   "metadata": {},
   "source": [
    "Here's how our test example looks after bandpass:"
   ]
  },
  {
   "cell_type": "code",
   "execution_count": null,
   "metadata": {
    "execution": {
     "iopub.execute_input": "2021-07-09T18:56:09.446314Z",
     "iopub.status.busy": "2021-07-09T18:56:09.445863Z",
     "iopub.status.idle": "2021-07-09T18:56:10.637007Z",
     "shell.execute_reply": "2021-07-09T18:56:10.636286Z",
     "shell.execute_reply.started": "2021-07-09T18:56:09.446274Z"
    }
   },
   "outputs": [],
   "source": [
    "plot_example_lines(test_id, bandpass_sigs(test_sigs), test_targ)"
   ]
  },
  {
   "cell_type": "markdown",
   "metadata": {},
   "source": [
    "### Define Our Preprocessing Function\n",
    "\n",
    "Here's a complete preprocessing function modeled closely after the [sample code for GW150914 in PyCBC's docs]."
   ]
  },
  {
   "cell_type": "code",
   "execution_count": null,
   "metadata": {
    "execution": {
     "iopub.execute_input": "2021-07-09T18:56:10.638503Z",
     "iopub.status.busy": "2021-07-09T18:56:10.638099Z",
     "iopub.status.idle": "2021-07-09T18:56:10.644882Z",
     "shell.execute_reply": "2021-07-09T18:56:10.644259Z",
     "shell.execute_reply.started": "2021-07-09T18:56:10.638462Z"
    }
   },
   "outputs": [],
   "source": [
    "@typechecked\n",
    "def preprocess_sig(sig: np.ndarray) -> np.ndarray:\n",
    "    from pycbc.psd import welch, interpolate\n",
    "    \n",
    "    windowed = timeseries_from_signal(window(sig))\n",
    "    high = pycbc.filter.highpass(windowed, 15, 8)\n",
    "    \n",
    "    # whiten\n",
    "\n",
    "    psd = interpolate(welch(high), 1.0 / high.duration)\n",
    "    white = (high.to_frequencyseries() / psd ** 0.5).to_timeseries()\n",
    "\n",
    "    # The above whitening process was taken straight from PyCBC's example code\n",
    "    # for GW150914, but it adds huge spikes for 0.0 <= t <= 0.1.\n",
    "    # Rather than sort that out yet (TODO), we tukey out the spike.\n",
    "    from pycbc.strain import gate_data\n",
    "    white = gate_data(white, [(0.0, 0.05, 0.05)])\n",
    "    # Here's an alternative approach from the example notebook we began with.\n",
    "    # It adds complexity by cropping the time axis.\n",
    "    # TODO: Is this better or worse?\n",
    "    # white = high.whiten(0.125, 0.125)\n",
    "\n",
    "    bandpassed = bandpass_ts(white)\n",
    "\n",
    "    preprocessed = np.array(bandpassed)\n",
    "    # Normalize to [0, 1]\n",
    "    return preprocessed / np.max(np.abs(preprocessed))\n",
    "        \n",
    "@typechecked\n",
    "def preprocess_sigs(sigs: np.ndarray) -> np.ndarray:\n",
    "    return np.stack([preprocess_sig(sig) for sig in sigs])"
   ]
  },
  {
   "cell_type": "code",
   "execution_count": null,
   "metadata": {
    "execution": {
     "iopub.execute_input": "2021-07-09T18:56:10.6465Z",
     "iopub.status.busy": "2021-07-09T18:56:10.646028Z",
     "iopub.status.idle": "2021-07-09T18:56:10.750281Z",
     "shell.execute_reply": "2021-07-09T18:56:10.749461Z",
     "shell.execute_reply.started": "2021-07-09T18:56:10.646464Z"
    }
   },
   "outputs": [],
   "source": [
    "test_psigs = preprocess_sigs(test_sigs)"
   ]
  },
  {
   "cell_type": "code",
   "execution_count": null,
   "metadata": {
    "execution": {
     "iopub.execute_input": "2021-07-09T18:56:10.751812Z",
     "iopub.status.busy": "2021-07-09T18:56:10.751376Z",
     "iopub.status.idle": "2021-07-09T18:56:11.495107Z",
     "shell.execute_reply": "2021-07-09T18:56:11.49409Z",
     "shell.execute_reply.started": "2021-07-09T18:56:10.751779Z"
    }
   },
   "outputs": [],
   "source": [
    "plot_example_lines(test_id, test_psigs, test_targ)"
   ]
  },
  {
   "cell_type": "markdown",
   "metadata": {},
   "source": [
    "## Q-Transform\n",
    "The Q-Transform is related to the Fourier transform, and very closely related to a wavelet transform. The spectrogram is a possible candidate as input for a CNN model."
   ]
  },
  {
   "cell_type": "markdown",
   "metadata": {},
   "source": [
    "### Learn About Q-Transform"
   ]
  },
  {
   "cell_type": "markdown",
   "metadata": {
    "execution": {
     "iopub.execute_input": "2021-07-07T23:09:33.242329Z",
     "iopub.status.busy": "2021-07-07T23:09:33.241929Z",
     "iopub.status.idle": "2021-07-07T23:09:33.246235Z",
     "shell.execute_reply": "2021-07-07T23:09:33.245143Z",
     "shell.execute_reply.started": "2021-07-07T23:09:33.242295Z"
    }
   },
   "source": [
    "## Define Our Q-Transform Function"
   ]
  },
  {
   "cell_type": "markdown",
   "metadata": {
    "execution": {
     "iopub.execute_input": "2021-07-07T13:39:17.308452Z",
     "iopub.status.busy": "2021-07-07T13:39:17.307917Z",
     "iopub.status.idle": "2021-07-07T13:39:17.313389Z",
     "shell.execute_reply": "2021-07-07T13:39:17.312516Z",
     "shell.execute_reply.started": "2021-07-07T13:39:17.308349Z"
    }
   },
   "source": [
    "## Define Our Graphing Functions"
   ]
  },
  {
   "cell_type": "code",
   "execution_count": null,
   "metadata": {
    "execution": {
     "iopub.execute_input": "2021-07-09T18:56:56.131748Z",
     "iopub.status.busy": "2021-07-09T18:56:56.13139Z",
     "iopub.status.idle": "2021-07-09T18:56:56.140087Z",
     "shell.execute_reply": "2021-07-09T18:56:56.139017Z",
     "shell.execute_reply.started": "2021-07-09T18:56:56.131718Z"
    }
   },
   "outputs": [],
   "source": [
    "def plot_sig_q(ax, sigs, idx):\n",
    "    ax.set_yscale('log')\n",
    "        \n",
    "    ts = pycbc.types.TimeSeries(sigs[idx, :], epoch=0, delta_t=DELTA_T) \n",
    "    # Normalize the noise power at different frequencies.\n",
    "    ts = ts.whiten(0.125, 0.125)\n",
    "    qtime, qfreq, qpower = ts.qtransform(DELTA_T, logfsteps=100, qrange=(10, 10), frange=(20, 512))\n",
    "\n",
    "    ax.pcolormesh(qtime, qfreq, qpower, vmax=15, vmin=0, cmap='viridis', shading='auto')\n",
    "    \n",
    "    ax.minorticks_on()\n",
    "    ax.grid(which='major', color='#DDDDDD', linestyle='-', linewidth=0.7)\n",
    "    ax.grid(which='minor', color='#CCCCCC', linestyle=':', linewidth=0.5)\n",
    "    ax.set_axisbelow(False)"
   ]
  },
  {
   "cell_type": "code",
   "execution_count": null,
   "metadata": {
    "execution": {
     "iopub.execute_input": "2021-07-09T18:56:56.174246Z",
     "iopub.status.busy": "2021-07-09T18:56:56.173903Z",
     "iopub.status.idle": "2021-07-09T18:56:56.182338Z",
     "shell.execute_reply": "2021-07-09T18:56:56.181294Z",
     "shell.execute_reply.started": "2021-07-09T18:56:56.174218Z"
    }
   },
   "outputs": [],
   "source": [
    "def show_example(sample_id):\n",
    "    sigs, targ = read_signals_and_target(sample_id)\n",
    "    \n",
    "    class Plot(IntEnum):\n",
    "        SIG0_Q = 0\n",
    "        SIG1_Q = auto()\n",
    "        SIG2_Q = auto()\n",
    "        \n",
    "        SIG0_LINE = auto()\n",
    "        SIG1_LINE = auto()\n",
    "        SIG2_LINE = auto()\n",
    "        \n",
    "        ALL_SIGS = auto()\n",
    "        \n",
    "    NUM_PLOTS = len(Plot)\n",
    "\n",
    "    fig, axs = plt.subplots(nrows=NUM_PLOTS, \n",
    "                            ncols=1, \n",
    "                            sharex=True,\n",
    "                            figsize=[9, 9])\n",
    "    \n",
    "    plot_sig_q(axs[Plot.SIG0_Q], sigs, 0)\n",
    "    plot_sig_q(axs[Plot.SIG1_Q], sigs, 1)\n",
    "    plot_sig_q(axs[Plot.SIG2_Q], sigs, 2)\n",
    "    \n",
    "    ptss = preprocess_sigs(sigs)\n",
    "\n",
    "    plot_sig_line(axs[Plot.SIG0_LINE], ptss, 0)\n",
    "    plot_sig_line(axs[Plot.SIG1_LINE], ptss, 1)\n",
    "    plot_sig_line(axs[Plot.SIG2_LINE], ptss, 2)\n",
    "    \n",
    "    plot_sig_line(axs[Plot.ALL_SIGS], ptss, 0)\n",
    "    plot_sig_line(axs[Plot.ALL_SIGS], ptss, 1)\n",
    "    plot_sig_line(axs[Plot.ALL_SIGS], ptss, 2)\n",
    "    \n",
    "    fig.suptitle(f'id={sample_id}, target={targ}\\n', y=0.1)\n",
    "    plt.show()"
   ]
  },
  {
   "cell_type": "markdown",
   "metadata": {},
   "source": [
    "# Show Strong-Signal Examples"
   ]
  },
  {
   "cell_type": "code",
   "execution_count": null,
   "metadata": {
    "execution": {
     "iopub.execute_input": "2021-07-09T18:56:56.183993Z",
     "iopub.status.busy": "2021-07-09T18:56:56.183715Z",
     "iopub.status.idle": "2021-07-09T18:57:02.769483Z",
     "shell.execute_reply": "2021-07-09T18:57:02.768452Z",
     "shell.execute_reply.started": "2021-07-09T18:56:56.183967Z"
    }
   },
   "outputs": [],
   "source": [
    "for _id in ['339f690782', '68222c0e9c']:\n",
    "    show_example(_id)"
   ]
  },
  {
   "cell_type": "markdown",
   "metadata": {},
   "source": [
    "# Show Random Examples"
   ]
  },
  {
   "cell_type": "code",
   "execution_count": null,
   "metadata": {
    "execution": {
     "iopub.execute_input": "2021-07-09T18:57:02.771635Z",
     "iopub.status.busy": "2021-07-09T18:57:02.77129Z",
     "iopub.status.idle": "2021-07-09T18:57:19.114149Z",
     "shell.execute_reply": "2021-07-09T18:57:19.113437Z",
     "shell.execute_reply.started": "2021-07-09T18:57:02.771602Z"
    }
   },
   "outputs": [],
   "source": [
    "for _ in range(100):\n",
    "    random_idx = np.random.randint(len(train_df))\n",
    "    show_example(train_df['id'][random_idx])"
   ]
  }
 ],
 "metadata": {
  "kernelspec": {
   "display_name": "Python 3 (ipykernel)",
   "language": "python",
   "name": "python3"
  },
  "language_info": {
   "codemirror_mode": {
    "name": "ipython",
    "version": 3
   },
   "file_extension": ".py",
   "mimetype": "text/x-python",
   "name": "python",
   "nbconvert_exporter": "python",
   "pygments_lexer": "ipython3",
   "version": "3.9.6"
  }
 },
 "nbformat": 4,
 "nbformat_minor": 4
}
