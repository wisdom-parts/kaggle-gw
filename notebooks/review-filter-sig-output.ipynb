{
 "cells": [
  {
   "cell_type": "code",
   "execution_count": null,
   "id": "8a2933ca-b3a6-4846-97ee-77f8052ccfde",
   "metadata": {},
   "outputs": [],
   "source": [
    "import sys\n",
    "import os\n",
    "import pathlib\n",
    "from pathlib import Path"
   ]
  },
  {
   "cell_type": "code",
   "execution_count": null,
   "id": "4dfc5c15-00da-40cb-b9e4-ae76e308846a",
   "metadata": {},
   "outputs": [],
   "source": [
    "kaggle_gw_dir = str(pathlib.Path(os.getcwd(), '..').resolve())\n",
    "sys.path.insert(0, kaggle_gw_dir)"
   ]
  },
  {
   "cell_type": "code",
   "execution_count": null,
   "id": "bf2f59f6-3f6a-4333-b546-b808719c9515",
   "metadata": {},
   "outputs": [],
   "source": [
    "DATA_DIR = Path('/tmp/filtered-000')"
   ]
  },
  {
   "cell_type": "code",
   "execution_count": null,
   "id": "c8e76e5d-588b-4d77-8f58-cf8d6964ee10",
   "metadata": {},
   "outputs": [],
   "source": [
    "import numpy as np\n",
    "import matplotlib.pyplot as plt\n",
    "from gw_util import *"
   ]
  },
  {
   "cell_type": "code",
   "execution_count": null,
   "id": "5ad8b448-edbb-41f9-b47d-09e58fb3704b",
   "metadata": {},
   "outputs": [],
   "source": [
    "# Suitable for a 2020ish MacBook Pro\n",
    "plt.rcParams['figure.dpi']= 140\n",
    "\n",
    "SMALL_FONT_SIZE = 6\n",
    "MEDIUM_FONT_SIZE = 8\n",
    "BIGGER_FONT_SIZE = 10\n",
    "\n",
    "plt.rc('font', size=SMALL_FONT_SIZE)          # controls default text sizes\n",
    "plt.rc('axes', titlesize=SMALL_FONT_SIZE)     # fontsize of the axes title\n",
    "plt.rc('axes', labelsize=MEDIUM_FONT_SIZE)    # fontsize of the x and y labels\n",
    "plt.rc('xtick', labelsize=SMALL_FONT_SIZE)    # fontsize of the tick labels\n",
    "plt.rc('ytick', labelsize=SMALL_FONT_SIZE)    # fontsize of the tick labels\n",
    "plt.rc('legend', fontsize=SMALL_FONT_SIZE)    # legend fontsize\n",
    "plt.rc('figure', titlesize=BIGGER_FONT_SIZE)  # fontsize of the figure title"
   ]
  },
  {
   "cell_type": "code",
   "execution_count": null,
   "id": "25430a0b-4d66-4dd7-a789-d1134cf58840",
   "metadata": {},
   "outputs": [],
   "source": [
    "SIGNAL_COLORS = ['red', 'green', 'blue']\n",
    "\n",
    "def plot_sig_line(ax, sigs, idx):\n",
    "    ax.minorticks_on()\n",
    "    ax.grid(which='major', color='#555555', linestyle='-', linewidth=0.7)\n",
    "    ax.grid(which='minor', color='#AAAAAA', linestyle=':', linewidth=0.5)\n",
    "    ax.set_axisbelow(False)\n",
    "\n",
    "    ax.plot(SIGNAL_TIMES,\n",
    "           sigs[idx],\n",
    "           SIGNAL_COLORS[idx])\n",
    "    \n",
    "def plot_example_lines(_id, sigs):\n",
    "    fig, axs = plt.subplots(nrows=3, ncols=1, sharex=True, figsize=[5, 2])\n",
    "    for i in range(3):\n",
    "        plot_sig_line(axs[i], sigs, i)\n",
    "    fig.suptitle(f'id={_id}')"
   ]
  },
  {
   "cell_type": "code",
   "execution_count": null,
   "id": "ed516dad-1599-47ac-9166-4f7aef15fa64",
   "metadata": {},
   "outputs": [],
   "source": [
    "test_id = '00000e74ad'\n",
    "test_sigs = np.load(train_file(DATA_DIR, test_id))"
   ]
  },
  {
   "cell_type": "code",
   "execution_count": null,
   "id": "c96df218-168d-4749-8e43-3a89a0daaa73",
   "metadata": {},
   "outputs": [],
   "source": [
    "plot_example_lines(test_id, test_sigs)"
   ]
  }
 ],
 "metadata": {
  "kernelspec": {
   "display_name": "Python 3 (ipykernel)",
   "language": "python",
   "name": "python3"
  },
  "language_info": {
   "codemirror_mode": {
    "name": "ipython",
    "version": 3
   },
   "file_extension": ".py",
   "mimetype": "text/x-python",
   "name": "python",
   "nbconvert_exporter": "python",
   "pygments_lexer": "ipython3",
   "version": "3.9.7"
  }
 },
 "nbformat": 4,
 "nbformat_minor": 5
}
