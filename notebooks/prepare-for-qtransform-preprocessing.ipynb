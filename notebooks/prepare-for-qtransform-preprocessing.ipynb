{
 "cells": [
  {
   "cell_type": "code",
   "execution_count": null,
   "id": "8a2933ca-b3a6-4846-97ee-77f8052ccfde",
   "metadata": {},
   "outputs": [],
   "source": [
    "import sys\n",
    "import os\n",
    "import pathlib\n",
    "from pathlib import Path\n",
    "from typing import Tuple\n",
    "\n",
    "from typeguard import typechecked\n",
    "\n",
    "import numpy as np\n",
    "import matplotlib.pyplot as plt\n",
    "import scipy.signal"
   ]
  },
  {
   "cell_type": "code",
   "execution_count": null,
   "id": "4dfc5c15-00da-40cb-b9e4-ae76e308846a",
   "metadata": {},
   "outputs": [],
   "source": [
    "kaggle_gw_dir = str(pathlib.Path(os.getcwd(), '..').resolve())\n",
    "sys.path.insert(0, kaggle_gw_dir)"
   ]
  },
  {
   "cell_type": "code",
   "execution_count": null,
   "id": "05b66798-9db2-48e9-b0c6-3c5c4d912005",
   "metadata": {},
   "outputs": [],
   "source": [
    "import gw_data"
   ]
  },
  {
   "cell_type": "code",
   "execution_count": null,
   "id": "bf2f59f6-3f6a-4333-b546-b808719c9515",
   "metadata": {},
   "outputs": [],
   "source": [
    "DATA_DIR = Path('../g2net-data-000')"
   ]
  },
  {
   "cell_type": "code",
   "execution_count": null,
   "id": "5ad8b448-edbb-41f9-b47d-09e58fb3704b",
   "metadata": {},
   "outputs": [],
   "source": [
    "# Suitable for a 2020ish MacBook Pro\n",
    "plt.rcParams['figure.dpi']= 140\n",
    "\n",
    "SMALL_FONT_SIZE = 6\n",
    "MEDIUM_FONT_SIZE = 8\n",
    "BIGGER_FONT_SIZE = 10\n",
    "\n",
    "plt.rc('font', size=SMALL_FONT_SIZE)          # controls default text sizes\n",
    "plt.rc('axes', titlesize=SMALL_FONT_SIZE)     # fontsize of the axes title\n",
    "plt.rc('axes', labelsize=MEDIUM_FONT_SIZE)    # fontsize of the x and y labels\n",
    "plt.rc('xtick', labelsize=SMALL_FONT_SIZE)    # fontsize of the tick labels\n",
    "plt.rc('ytick', labelsize=SMALL_FONT_SIZE)    # fontsize of the tick labels\n",
    "plt.rc('legend', fontsize=SMALL_FONT_SIZE)    # legend fontsize\n",
    "plt.rc('figure', titlesize=BIGGER_FONT_SIZE)  # fontsize of the figure title"
   ]
  },
  {
   "cell_type": "code",
   "execution_count": null,
   "id": "25430a0b-4d66-4dd7-a789-d1134cf58840",
   "metadata": {},
   "outputs": [],
   "source": [
    "SIGNAL_COLORS = ['red', 'green', 'blue']\n",
    "\n",
    "def plot_sig_line(ax, sigs, idx):\n",
    "    ax.minorticks_on()\n",
    "    ax.grid(which='major', color='#555555', linestyle='-', linewidth=0.7)\n",
    "    ax.grid(which='minor', color='#AAAAAA', linestyle=':', linewidth=0.5)\n",
    "    ax.set_axisbelow(False)\n",
    "\n",
    "    ax.plot(gw_util.SIGNAL_TIMES,\n",
    "           sigs[idx],\n",
    "           SIGNAL_COLORS[idx])\n",
    "    \n",
    "def plot_example_lines(_id, sigs):\n",
    "    fig, axs = plt.subplots(nrows=3, ncols=1, sharex=True, figsize=[5, 2])\n",
    "    for i in range(3):\n",
    "        plot_sig_line(axs[i], sigs, i)\n",
    "    fig.suptitle(f'id={_id}')"
   ]
  },
  {
   "cell_type": "code",
   "execution_count": null,
   "id": "ed516dad-1599-47ac-9166-4f7aef15fa64",
   "metadata": {},
   "outputs": [],
   "source": [
    "test_id = '000a218fdd'\n",
    "test_sigs = np.load(gw_util.train_file(DATA_DIR, test_id))"
   ]
  },
  {
   "cell_type": "code",
   "execution_count": null,
   "id": "c96df218-168d-4749-8e43-3a89a0daaa73",
   "metadata": {},
   "outputs": [],
   "source": [
    "plot_example_lines(test_id, test_sigs)"
   ]
  },
  {
   "cell_type": "code",
   "execution_count": null,
   "id": "f0ad1599-0507-4b8b-9a98-a8b7a2761013",
   "metadata": {},
   "outputs": [],
   "source": [
    "t, f, q = gw_util.qtransform_sig(test_sigs[0])"
   ]
  },
  {
   "cell_type": "code",
   "execution_count": null,
   "id": "86f4d25b-8eb7-4e63-bfde-4d65036a1d81",
   "metadata": {},
   "outputs": [],
   "source": [
    "t.shape"
   ]
  },
  {
   "cell_type": "code",
   "execution_count": null,
   "id": "1f10a9b0-bb2c-45f1-9629-796774929dbf",
   "metadata": {},
   "outputs": [],
   "source": [
    "f.shape"
   ]
  },
  {
   "cell_type": "code",
   "execution_count": null,
   "id": "f0497c8c-502e-4dff-9639-772aa4de83ee",
   "metadata": {},
   "outputs": [],
   "source": [
    "plt.plot(f)"
   ]
  },
  {
   "cell_type": "code",
   "execution_count": null,
   "id": "ad50375c-f552-41a0-bd58-981221d14c60",
   "metadata": {},
   "outputs": [],
   "source": [
    "@typechecked\n",
    "def plot_sig_q(sig: np.ndarray):\n",
    "    times, freqs, plane = gw_util.qtransform_sig(sig)\n",
    "\n",
    "    fig, ax = plt.subplots(nrows=1, ncols=1, figsize=[6, 2])\n",
    "    ax.pcolormesh(times, freqs, plane, vmax=15, vmin=0, cmap='viridis', shading='auto')\n",
    "    ax.minorticks_on()\n",
    "    ax.grid(which='major', color='#DDDDDD', linestyle='-', linewidth=0.7)\n",
    "    ax.grid(which='minor', color='#CCCCCC', linestyle=':', linewidth=0.5)\n",
    "    ax.set_axisbelow(False)"
   ]
  },
  {
   "cell_type": "code",
   "execution_count": null,
   "id": "253648bb-637f-43c9-9143-9118b3cd9493",
   "metadata": {},
   "outputs": [],
   "source": [
    "plot_sig_q(test_sigs[2])"
   ]
  },
  {
   "cell_type": "code",
   "execution_count": null,
   "id": "865e4ad0-21a5-40f4-99fa-678dc8104a51",
   "metadata": {},
   "outputs": [],
   "source": []
  }
 ],
 "metadata": {
  "kernelspec": {
   "display_name": "Python 3 (ipykernel)",
   "language": "python",
   "name": "python3"
  },
  "language_info": {
   "codemirror_mode": {
    "name": "ipython",
    "version": 3
   },
   "file_extension": ".py",
   "mimetype": "text/x-python",
   "name": "python",
   "nbconvert_exporter": "python",
   "pygments_lexer": "ipython3",
   "version": "3.9.7"
  }
 },
 "nbformat": 4,
 "nbformat_minor": 5
}
