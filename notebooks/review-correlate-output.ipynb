{
 "cells": [
  {
   "cell_type": "code",
   "execution_count": 1,
   "id": "8a2933ca-b3a6-4846-97ee-77f8052ccfde",
   "metadata": {},
   "outputs": [],
   "source": [
    "import sys\n",
    "import os\n",
    "import pathlib\n",
    "from pathlib import Path\n",
    "import numpy as np\n",
    "import pandas as pd\n",
    "import numpy as np\n",
    "import matplotlib.pyplot as plt\n",
    "from typeguard import typechecked\n"
   ]
  },
  {
   "cell_type": "code",
   "execution_count": 2,
   "id": "4dfc5c15-00da-40cb-b9e4-ae76e308846a",
   "metadata": {},
   "outputs": [],
   "source": [
    "kaggle_gw_dir = str(pathlib.Path(os.getcwd(), '..').resolve())\n",
    "sys.path.insert(0, kaggle_gw_dir)"
   ]
  },
  {
   "cell_type": "code",
   "execution_count": 3,
   "id": "c8e76e5d-588b-4d77-8f58-cf8d6964ee10",
   "metadata": {},
   "outputs": [],
   "source": [
    "import gw_data"
   ]
  },
  {
   "cell_type": "code",
   "execution_count": 4,
   "id": "bf2f59f6-3f6a-4333-b546-b808719c9515",
   "metadata": {},
   "outputs": [],
   "source": [
    "DATA_DIR = Path('/tmp/filter_sig-000')"
   ]
  },
  {
   "cell_type": "code",
   "execution_count": 5,
   "id": "5ad8b448-edbb-41f9-b47d-09e58fb3704b",
   "metadata": {},
   "outputs": [],
   "source": [
    "# Suitable for a 2020ish MacBook Pro\n",
    "plt.rcParams['figure.dpi']= 140\n",
    "\n",
    "SMALL_FONT_SIZE = 6\n",
    "MEDIUM_FONT_SIZE = 8\n",
    "BIGGER_FONT_SIZE = 10\n",
    "\n",
    "plt.rc('font', size=SMALL_FONT_SIZE)          # controls default text sizes\n",
    "plt.rc('axes', titlesize=SMALL_FONT_SIZE)     # fontsize of the axes title\n",
    "plt.rc('axes', labelsize=MEDIUM_FONT_SIZE)    # fontsize of the x and y labels\n",
    "plt.rc('xtick', labelsize=SMALL_FONT_SIZE)    # fontsize of the tick labels\n",
    "plt.rc('ytick', labelsize=SMALL_FONT_SIZE)    # fontsize of the tick labels\n",
    "plt.rc('legend', fontsize=SMALL_FONT_SIZE)    # legend fontsize\n",
    "plt.rc('figure', titlesize=BIGGER_FONT_SIZE)  # fontsize of the figure title"
   ]
  },
  {
   "cell_type": "code",
   "execution_count": 6,
   "id": "dd557e1a-2928-4ff6-a9f6-b7e9ae99948f",
   "metadata": {},
   "outputs": [],
   "source": [
    "training_labels = pd.read_csv(DATA_DIR / \"training_labels.csv\")"
   ]
  },
  {
   "cell_type": "code",
   "execution_count": 7,
   "id": "774c3037-3674-4a95-9968-9b53aa8afde2",
   "metadata": {},
   "outputs": [],
   "source": [
    "@typechecked\n",
    "def max_corr(example_id: str) -> float:\n",
    "    filename = str(gw_data.train_file(DATA_DIR, example_id, \"correlation\"))\n",
    "    c = np.load(filename)\n",
    "    return np.max(c[0])"
   ]
  },
  {
   "cell_type": "code",
   "execution_count": 8,
   "id": "97a9410f-fa00-4e4a-bacd-2884ed7c9c04",
   "metadata": {},
   "outputs": [],
   "source": [
    "target_and_corr = pd.DataFrame()"
   ]
  },
  {
   "cell_type": "code",
   "execution_count": 9,
   "id": "4595c57c-353b-4fea-a412-7f376474695f",
   "metadata": {},
   "outputs": [],
   "source": [
    "target_and_corr[\"target\"] = training_labels[\"target\"]"
   ]
  },
  {
   "cell_type": "code",
   "execution_count": 10,
   "id": "c277b3e7-351d-4db6-91b5-5c4a16c273cc",
   "metadata": {},
   "outputs": [],
   "source": [
    "target_and_corr[\"corr\"] = training_labels[\"id\"].map(lambda id: max_corr(id))"
   ]
  },
  {
   "cell_type": "code",
   "execution_count": 11,
   "id": "60fd01d3-4a81-43bc-92d1-5031a3390b19",
   "metadata": {},
   "outputs": [
    {
     "data": {
      "image/png": "[encoded data removed]",
      "text/plain": [
       "<Figure size 840x560 with 1 Axes>"
      ]
     },
     "metadata": {
      "needs_background": "light"
     },
     "output_type": "display_data"
    }
   ],
   "source": [
    "plt.hist(\n",
    "    [target_and_corr[\"corr\"][target_and_corr[\"target\"] == 0],\n",
    "     target_and_corr[\"corr\"][target_and_corr[\"target\"] == 1]],\n",
    "    label=[\"0\", \"1\"],\n",
    ")\n",
    "plt.legend()\n",
    "plt.show()"
   ]
  },
  {
   "cell_type": "code",
   "execution_count": null,
   "id": "3d450037-da2b-416d-aca4-97688d79d494",
   "metadata": {},
   "outputs": [],
   "source": []
  }
 ],
 "metadata": {
  "kernelspec": {
   "display_name": "Python 3 (ipykernel)",
   "language": "python",
   "name": "python3"
  },
  "language_info": {
   "codemirror_mode": {
    "name": "ipython",
    "version": 3
   },
   "file_extension": ".py",
   "mimetype": "text/x-python",
   "name": "python",
   "nbconvert_exporter": "python",
   "pygments_lexer": "ipython3",
   "version": "3.9.7"
  }
 },
 "nbformat": 4,
 "nbformat_minor": 5
}
